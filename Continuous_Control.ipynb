{
 "cells": [
  {
   "cell_type": "markdown",
   "metadata": {},
   "source": [
    "# Continuous Control\n",
    "\n",
    "---\n",
    "\n",
    "You are welcome to use this coding environment to train your agent for the project.  Follow the instructions below to get started!\n",
    "\n",
    "### 1. Start the Environment\n",
    "\n",
    "Run the next code cell to install a few packages.  This line will take a few minutes to run!"
   ]
  },
  {
   "cell_type": "code",
   "execution_count": 1,
   "metadata": {},
   "outputs": [
    {
     "name": "stdout",
     "output_type": "stream",
     "text": [
      "\u001b[31mtensorflow 1.7.1 has requirement numpy>=1.13.3, but you'll have numpy 1.12.1 which is incompatible.\u001b[0m\r\n",
      "\u001b[31mipython 6.5.0 has requirement prompt-toolkit<2.0.0,>=1.0.15, but you'll have prompt-toolkit 2.0.9 which is incompatible.\u001b[0m\r\n"
     ]
    }
   ],
   "source": [
    "!pip -q install ./python"
   ]
  },
  {
   "cell_type": "markdown",
   "metadata": {},
   "source": [
    "The environments corresponding to both versions of the environment are already saved in the Workspace and can be accessed at the file paths provided below.  \n",
    "\n",
    "Please select one of the two options below for loading the environment."
   ]
  },
  {
   "cell_type": "code",
   "execution_count": 2,
   "metadata": {},
   "outputs": [
    {
     "name": "stderr",
     "output_type": "stream",
     "text": [
      "INFO:unityagents:\n",
      "'Academy' started successfully!\n",
      "Unity Academy name: Academy\n",
      "        Number of Brains: 1\n",
      "        Number of External Brains : 1\n",
      "        Lesson number : 0\n",
      "        Reset Parameters :\n",
      "\t\tgoal_speed -> 1.0\n",
      "\t\tgoal_size -> 5.0\n",
      "Unity brain name: ReacherBrain\n",
      "        Number of Visual Observations (per agent): 0\n",
      "        Vector Observation space type: continuous\n",
      "        Vector Observation space size (per agent): 33\n",
      "        Number of stacked Vector Observation: 1\n",
      "        Vector Action space type: continuous\n",
      "        Vector Action space size (per agent): 4\n",
      "        Vector Action descriptions: , , , \n"
     ]
    }
   ],
   "source": [
    "from unityagents import UnityEnvironment\n",
    "import numpy as np\n",
    "\n",
    "# select this option to load version 1 (with a single agent) of the environment\n",
    "env = UnityEnvironment(file_name='/data/Reacher_One_Linux_NoVis/Reacher_One_Linux_NoVis.x86_64')\n",
    "\n",
    "# select this option to load version 2 (with 20 agents) of the environment\n",
    "# env = UnityEnvironment(file_name='/data/Reacher_Linux_NoVis/Reacher.x86_64')"
   ]
  },
  {
   "cell_type": "markdown",
   "metadata": {},
   "source": [
    "Environments contain **_brains_** which are responsible for deciding the actions of their associated agents. Here we check for the first brain available, and set it as the default brain we will be controlling from Python."
   ]
  },
  {
   "cell_type": "code",
   "execution_count": 3,
   "metadata": {},
   "outputs": [],
   "source": [
    "# get the default brain\n",
    "brain_name = env.brain_names[0]\n",
    "brain = env.brains[brain_name]"
   ]
  },
  {
   "cell_type": "markdown",
   "metadata": {},
   "source": [
    "### 2. Examine the State and Action Spaces\n",
    "\n",
    "Run the code cell below to print some information about the environment."
   ]
  },
  {
   "cell_type": "code",
   "execution_count": 4,
   "metadata": {},
   "outputs": [
    {
     "name": "stdout",
     "output_type": "stream",
     "text": [
      "Number of agents: 1\n",
      "Size of each action: 4\n",
      "There are 1 agents. Each observes a state with length: 33\n",
      "The state for the first agent looks like: [  0.00000000e+00  -4.00000000e+00   0.00000000e+00   1.00000000e+00\n",
      "  -0.00000000e+00  -0.00000000e+00  -4.37113883e-08   0.00000000e+00\n",
      "   0.00000000e+00   0.00000000e+00   0.00000000e+00   0.00000000e+00\n",
      "   0.00000000e+00   0.00000000e+00  -1.00000000e+01   0.00000000e+00\n",
      "   1.00000000e+00  -0.00000000e+00  -0.00000000e+00  -4.37113883e-08\n",
      "   0.00000000e+00   0.00000000e+00   0.00000000e+00   0.00000000e+00\n",
      "   0.00000000e+00   0.00000000e+00   5.75471878e+00  -1.00000000e+00\n",
      "   5.55726671e+00   0.00000000e+00   1.00000000e+00   0.00000000e+00\n",
      "  -1.68164849e-01]\n"
     ]
    }
   ],
   "source": [
    "# reset the environment\n",
    "env_info = env.reset(train_mode=True)[brain_name]\n",
    "\n",
    "# number of agents\n",
    "num_agents = len(env_info.agents)\n",
    "print('Number of agents:', num_agents)\n",
    "\n",
    "# size of each action\n",
    "action_size = brain.vector_action_space_size\n",
    "print('Size of each action:', action_size)\n",
    "\n",
    "# examine the state space \n",
    "states = env_info.vector_observations\n",
    "state_size = states.shape[1]\n",
    "print('There are {} agents. Each observes a state with length: {}'.format(states.shape[0], state_size))\n",
    "print('The state for the first agent looks like:', states[0])"
   ]
  },
  {
   "cell_type": "markdown",
   "metadata": {},
   "source": [
    "### 3. Take Random Actions in the Environment\n",
    "\n",
    "In the next code cell, you will learn how to use the Python API to control the agent and receive feedback from the environment.\n",
    "\n",
    "Note that **in this coding environment, you will not be able to watch the agents while they are training**, and you should set `train_mode=True` to restart the environment."
   ]
  },
  {
   "cell_type": "code",
   "execution_count": 5,
   "metadata": {},
   "outputs": [
    {
     "name": "stdout",
     "output_type": "stream",
     "text": [
      "Total score (averaged over agents) this episode: 0.04999999888241291\n"
     ]
    }
   ],
   "source": [
    "env_info = env.reset(train_mode=True)[brain_name]      # reset the environment    \n",
    "states = env_info.vector_observations                  # get the current state (for each agent)\n",
    "scores = np.zeros(num_agents)                          # initialize the score (for each agent)\n",
    "while True:\n",
    "    actions = np.random.randn(num_agents, action_size) # select an action (for each agent)\n",
    "    actions = np.clip(actions, -1, 1)                  # all actions between -1 and 1\n",
    "    env_info = env.step(actions)[brain_name]           # send all actions to tne environment\n",
    "    next_states = env_info.vector_observations         # get next state (for each agent)\n",
    "    rewards = env_info.rewards                         # get reward (for each agent)\n",
    "    dones = env_info.local_done                        # see if episode finished\n",
    "    scores += env_info.rewards                         # update the score (for each agent)\n",
    "    states = next_states                               # roll over states to next time step\n",
    "    if np.any(dones):                                  # exit loop if episode finished\n",
    "        break\n",
    "print('Total score (averaged over agents) this episode: {}'.format(np.mean(scores)))"
   ]
  },
  {
   "cell_type": "markdown",
   "metadata": {},
   "source": [
    "When finished, you can close the environment."
   ]
  },
  {
   "cell_type": "code",
   "execution_count": 6,
   "metadata": {},
   "outputs": [],
   "source": [
    "#env.close()"
   ]
  },
  {
   "cell_type": "markdown",
   "metadata": {},
   "source": [
    "### 4. It's Your Turn!\n",
    "\n",
    "Now it's your turn to train your own agent to solve the environment!  A few **important notes**:\n",
    "- When training the environment, set `train_mode=True`, so that the line for resetting the environment looks like the following:\n",
    "```python\n",
    "env_info = env.reset(train_mode=True)[brain_name]\n",
    "```\n",
    "- To structure your work, you're welcome to work directly in this Jupyter notebook, or you might like to start over with a new file!  You can see the list of files in the workspace by clicking on **_Jupyter_** in the top left corner of the notebook.\n",
    "- In this coding environment, you will not be able to watch the agents while they are training.  However, **_after training the agents_**, you can download the saved model weights to watch the agents on your own machine! "
   ]
  },
  {
   "cell_type": "code",
   "execution_count": 7,
   "metadata": {},
   "outputs": [],
   "source": [
    "from collections import deque\n",
    "import matplotlib.pyplot as plt\n",
    "from agent import Agent\n",
    "import torch\n",
    "\n",
    "%matplotlib inline"
   ]
  },
  {
   "cell_type": "code",
   "execution_count": 8,
   "metadata": {},
   "outputs": [],
   "source": [
    "agent = Agent(state_size=state_size, action_size=action_size, random_seed=10)"
   ]
  },
  {
   "cell_type": "code",
   "execution_count": 9,
   "metadata": {},
   "outputs": [],
   "source": [
    "def ddpg(n_episodes=1000, max_t=10000, print_every=1):\n",
    "    \"\"\"DDQN Algorithm.\n",
    "        n_episodes (int): maximum number of training episodes\n",
    "        max_t (int): maximum number of timesteps per episode\n",
    "        print_every (int): frequency of printing information throughout iteration \"\"\"\n",
    "    \n",
    "    scores = []\n",
    "    scores_deque = deque(maxlen=print_every)\n",
    "    \n",
    "    for i_episode in range(1, n_episodes+1):\n",
    "        env_info = env.reset(train_mode=True)[brain_name]\n",
    "        agent.reset()\n",
    "        state = env_info.vector_observations[0]            # get the current state\n",
    "        score = 0\n",
    "        \n",
    "        for t in range(max_t):\n",
    "            action = agent.act(state)          # select an action\n",
    "       \n",
    "            env_info = env.step(action)[brain_name]        # send the action to the environment\n",
    "            next_state = env_info.vector_observations[0]   # get the next state\n",
    "            reward = env_info.rewards[0]                   # get the reward\n",
    "            done = env_info.local_done[0]                  # see if episode has finished\n",
    "            agent.step(state, action, reward, next_state, done) # take step with agent (including learning)\n",
    "            score += reward                                # update the score\n",
    "            state = next_state                             # roll over the state to next time step\n",
    "            if done:                                       # exit loop if episode finished\n",
    "                break\n",
    "        \n",
    "        scores_deque.append(score)       # save most recent score\n",
    "        scores.append(score)             # save most recent score\n",
    "\n",
    "        print('\\rEpisode {}\\tAverage Score: {:.2f}'.format(i_episode, np.mean(scores_deque)), end=\"\")\n",
    "        \n",
    "        if i_episode % print_every == 0:\n",
    "            print('\\rEpisode {}\\tAverage Score: {:.2f}'.format(i_episode, np.mean(scores_deque)))\n",
    "            torch.save(agent.actor_local.state_dict(), 'checkpoint_actor.pth')\n",
    "            torch.save(agent.critic_local.state_dict(), 'checkpoint_critic.pth')\n",
    "        \n",
    "        if np.mean(scores_deque)>=30.0:\n",
    "            print('\\nEnvironment solved in {:d} episodes!\\tAverage Score: {:.2f}'.format(i_episode, np.mean(scores_deque)))\n",
    "            torch.save(agent.actor_local.state_dict(), 'checkpoint_actor.pth')\n",
    "            torch.save(agent.critic_local.state_dict(), 'checkpoint_critic.pth')\n",
    "            break\n",
    "            \n",
    "    return scores\n"
   ]
  },
  {
   "cell_type": "code",
   "execution_count": 10,
   "metadata": {},
   "outputs": [
    {
     "name": "stdout",
     "output_type": "stream",
     "text": [
      "Episode 1\tAverage Score: 0.20\n",
      "Episode 2\tAverage Score: 2.43\n",
      "Episode 3\tAverage Score: 1.64\n",
      "Episode 4\tAverage Score: 0.65\n",
      "Episode 5\tAverage Score: 0.00\n",
      "Episode 6\tAverage Score: 1.06\n",
      "Episode 7\tAverage Score: 0.69\n",
      "Episode 8\tAverage Score: 0.95\n",
      "Episode 9\tAverage Score: 0.30\n",
      "Episode 10\tAverage Score: 0.42\n",
      "Episode 11\tAverage Score: 1.39\n",
      "Episode 12\tAverage Score: 0.54\n",
      "Episode 13\tAverage Score: 0.66\n",
      "Episode 14\tAverage Score: 1.63\n",
      "Episode 15\tAverage Score: 1.27\n",
      "Episode 16\tAverage Score: 1.59\n",
      "Episode 17\tAverage Score: 1.99\n",
      "Episode 18\tAverage Score: 1.99\n",
      "Episode 19\tAverage Score: 1.88\n",
      "Episode 20\tAverage Score: 1.20\n",
      "Episode 21\tAverage Score: 1.50\n",
      "Episode 22\tAverage Score: 2.25\n",
      "Episode 23\tAverage Score: 2.74\n",
      "Episode 24\tAverage Score: 3.63\n",
      "Episode 25\tAverage Score: 2.32\n",
      "Episode 26\tAverage Score: 3.00\n",
      "Episode 27\tAverage Score: 2.97\n",
      "Episode 28\tAverage Score: 1.95\n",
      "Episode 29\tAverage Score: 3.69\n",
      "Episode 30\tAverage Score: 2.71\n",
      "Episode 31\tAverage Score: 3.44\n",
      "Episode 32\tAverage Score: 2.53\n",
      "Episode 33\tAverage Score: 4.97\n",
      "Episode 34\tAverage Score: 3.28\n",
      "Episode 35\tAverage Score: 4.88\n",
      "Episode 36\tAverage Score: 0.51\n",
      "Episode 37\tAverage Score: 6.66\n",
      "Episode 38\tAverage Score: 3.44\n",
      "Episode 39\tAverage Score: 1.76\n",
      "Episode 40\tAverage Score: 3.28\n",
      "Episode 41\tAverage Score: 4.99\n",
      "Episode 42\tAverage Score: 4.82\n",
      "Episode 43\tAverage Score: 3.82\n",
      "Episode 44\tAverage Score: 7.83\n",
      "Episode 45\tAverage Score: 3.13\n",
      "Episode 46\tAverage Score: 7.09\n",
      "Episode 47\tAverage Score: 7.48\n",
      "Episode 48\tAverage Score: 5.18\n",
      "Episode 49\tAverage Score: 3.38\n",
      "Episode 50\tAverage Score: 4.05\n",
      "Episode 51\tAverage Score: 5.39\n",
      "Episode 52\tAverage Score: 2.15\n",
      "Episode 53\tAverage Score: 9.44\n",
      "Episode 54\tAverage Score: 7.88\n",
      "Episode 55\tAverage Score: 5.98\n",
      "Episode 56\tAverage Score: 6.85\n",
      "Episode 57\tAverage Score: 5.66\n",
      "Episode 58\tAverage Score: 5.05\n",
      "Episode 59\tAverage Score: 6.95\n",
      "Episode 60\tAverage Score: 7.77\n",
      "Episode 61\tAverage Score: 5.17\n",
      "Episode 62\tAverage Score: 5.58\n",
      "Episode 63\tAverage Score: 3.50\n",
      "Episode 64\tAverage Score: 6.59\n",
      "Episode 65\tAverage Score: 9.24\n",
      "Episode 66\tAverage Score: 7.27\n",
      "Episode 67\tAverage Score: 6.19\n",
      "Episode 68\tAverage Score: 9.51\n",
      "Episode 69\tAverage Score: 10.14\n",
      "Episode 70\tAverage Score: 7.69\n",
      "Episode 71\tAverage Score: 9.03\n",
      "Episode 72\tAverage Score: 10.75\n",
      "Episode 73\tAverage Score: 8.57\n",
      "Episode 74\tAverage Score: 3.35\n",
      "Episode 75\tAverage Score: 10.67\n",
      "Episode 76\tAverage Score: 10.30\n",
      "Episode 77\tAverage Score: 7.62\n",
      "Episode 78\tAverage Score: 5.38\n",
      "Episode 79\tAverage Score: 8.17\n",
      "Episode 80\tAverage Score: 7.31\n",
      "Episode 81\tAverage Score: 6.48\n",
      "Episode 82\tAverage Score: 8.18\n",
      "Episode 83\tAverage Score: 11.17\n",
      "Episode 84\tAverage Score: 10.76\n",
      "Episode 85\tAverage Score: 6.56\n",
      "Episode 86\tAverage Score: 2.64\n",
      "Episode 87\tAverage Score: 8.62\n",
      "Episode 88\tAverage Score: 9.21\n",
      "Episode 89\tAverage Score: 6.29\n",
      "Episode 90\tAverage Score: 12.72\n",
      "Episode 91\tAverage Score: 7.12\n",
      "Episode 92\tAverage Score: 8.19\n",
      "Episode 93\tAverage Score: 7.19\n",
      "Episode 94\tAverage Score: 6.73\n",
      "Episode 95\tAverage Score: 8.05\n",
      "Episode 96\tAverage Score: 6.17\n",
      "Episode 97\tAverage Score: 6.41\n",
      "Episode 98\tAverage Score: 9.00\n",
      "Episode 99\tAverage Score: 9.58\n",
      "Episode 100\tAverage Score: 5.50\n",
      "Episode 101\tAverage Score: 8.90\n",
      "Episode 102\tAverage Score: 5.05\n",
      "Episode 103\tAverage Score: 9.96\n",
      "Episode 104\tAverage Score: 13.51\n",
      "Episode 105\tAverage Score: 10.52\n",
      "Episode 106\tAverage Score: 9.55\n",
      "Episode 107\tAverage Score: 9.31\n",
      "Episode 108\tAverage Score: 8.64\n",
      "Episode 109\tAverage Score: 16.74\n",
      "Episode 110\tAverage Score: 12.95\n",
      "Episode 111\tAverage Score: 12.45\n",
      "Episode 112\tAverage Score: 10.46\n",
      "Episode 113\tAverage Score: 12.73\n",
      "Episode 114\tAverage Score: 18.55\n",
      "Episode 115\tAverage Score: 7.23\n",
      "Episode 116\tAverage Score: 11.72\n",
      "Episode 117\tAverage Score: 6.87\n",
      "Episode 118\tAverage Score: 8.01\n",
      "Episode 119\tAverage Score: 9.97\n",
      "Episode 120\tAverage Score: 14.34\n",
      "Episode 121\tAverage Score: 18.81\n",
      "Episode 122\tAverage Score: 9.64\n",
      "Episode 123\tAverage Score: 12.87\n",
      "Episode 124\tAverage Score: 16.84\n",
      "Episode 125\tAverage Score: 15.46\n",
      "Episode 126\tAverage Score: 10.63\n",
      "Episode 127\tAverage Score: 19.33\n",
      "Episode 128\tAverage Score: 14.53\n",
      "Episode 129\tAverage Score: 10.92\n",
      "Episode 130\tAverage Score: 16.44\n",
      "Episode 131\tAverage Score: 8.36\n",
      "Episode 132\tAverage Score: 18.56\n",
      "Episode 133\tAverage Score: 13.23\n",
      "Episode 134\tAverage Score: 10.13\n",
      "Episode 135\tAverage Score: 18.37\n",
      "Episode 136\tAverage Score: 22.44\n",
      "Episode 137\tAverage Score: 18.12\n",
      "Episode 138\tAverage Score: 15.71\n",
      "Episode 139\tAverage Score: 16.73\n",
      "Episode 140\tAverage Score: 20.59\n",
      "Episode 141\tAverage Score: 16.83\n",
      "Episode 142\tAverage Score: 12.71\n",
      "Episode 143\tAverage Score: 16.92\n",
      "Episode 144\tAverage Score: 18.39\n",
      "Episode 145\tAverage Score: 13.37\n",
      "Episode 146\tAverage Score: 14.20\n",
      "Episode 147\tAverage Score: 17.96\n",
      "Episode 148\tAverage Score: 21.18\n",
      "Episode 149\tAverage Score: 22.01\n",
      "Episode 150\tAverage Score: 19.13\n",
      "Episode 151\tAverage Score: 20.32\n",
      "Episode 152\tAverage Score: 12.97\n",
      "Episode 153\tAverage Score: 22.19\n",
      "Episode 154\tAverage Score: 19.53\n",
      "Episode 155\tAverage Score: 14.94\n",
      "Episode 156\tAverage Score: 19.22\n",
      "Episode 157\tAverage Score: 23.28\n",
      "Episode 158\tAverage Score: 36.20\n",
      "\n",
      "Environment solved in 158 episodes!\tAverage Score: 36.20\n"
     ]
    },
    {
     "data": {
      "image/png": "[encoded data removed]",
      "text/plain": [
       "<matplotlib.figure.Figure at 0x7f9d94a46588>"
      ]
     },
     "metadata": {
      "needs_background": "light"
     },
     "output_type": "display_data"
    }
   ],
   "source": [
    "scores = ddpg(n_episodes = 500)\n",
    "\n",
    "fig = plt.figure()\n",
    "ax = fig.add_subplot(111)\n",
    "plt.plot(np.arange(1, len(scores)+1), scores)\n",
    "plt.ylabel('Score')\n",
    "plt.xlabel('Episode #')\n",
    "plt.show()"
   ]
  }
 ],
 "metadata": {
  "kernelspec": {
   "display_name": "Python 3",
   "language": "python",
   "name": "python3"
  },
  "language_info": {
   "codemirror_mode": {
    "name": "ipython",
    "version": 3
   },
   "file_extension": ".py",
   "mimetype": "text/x-python",
   "name": "python",
   "nbconvert_exporter": "python",
   "pygments_lexer": "ipython3",
   "version": "3.6.3"
  }
 },
 "nbformat": 4,
 "nbformat_minor": 2
}
